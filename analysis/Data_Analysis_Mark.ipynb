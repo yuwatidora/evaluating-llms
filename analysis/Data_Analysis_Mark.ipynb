{
 "cells": [
  {
   "cell_type": "code",
   "execution_count": 19,
   "metadata": {},
   "outputs": [],
   "source": [
    "import pandas as pd"
   ]
  },
  {
   "cell_type": "code",
   "execution_count": 20,
   "metadata": {},
   "outputs": [
    {
     "name": "stdout",
     "output_type": "stream",
     "text": [
      "                                                   output  \\\n",
      "95926   You can use the `round()` function to round th...   \n",
      "221342  Returns a set of all the topics that are inter...   \n",
      "112883  ```python\\nsum = 0\\nfor i in range(0, 10):\\n  ...   \n",
      "115118  Sure! Here's a code snippet that uses the `req...   \n",
      "278771  Adds a base_template attribute to the context ...   \n",
      "35288   #!/usr/bin/env python\\n\\nimport datetime\\n\\nde...   \n",
      "267625  def _add(a, b, relicAdd):\\n    \"\"\"\\n    Adds t...   \n",
      "261808  def includeme(config):\\n    \"\"\"\\n    Include `...   \n",
      "231544  Called by the endpoint when a new media transp...   \n",
      "7768    Here's a code snippet in Python that allows th...   \n",
      "\n",
      "                                              instruction  \\\n",
      "95926   Inside a Python program, how would you convert...   \n",
      "221342  Explain what the following Python 3 code does\\...   \n",
      "112883  Alter the code to include a break statement in...   \n",
      "115118  Using the \"requests\" library, write a code to ...   \n",
      "278771  Explain what the following Python 3 code does\\...   \n",
      "35288   Write a Python program that prints out the day...   \n",
      "267625  Can you write a function in Python 3 where it\\...   \n",
      "261808  Create a Python 3 function to\\ninclude crabpy_...   \n",
      "231544  Given the following Python 3 function, write t...   \n",
      "7768    Write code for displaying the Fibonacci sequen...   \n",
      "\n",
      "                                                   system  \n",
      "95926   As a python code expert, you are capable of cr...  \n",
      "221342  You are a Python code generator, capable of cr...  \n",
      "112883  You are a Python code architect, reviewing and...  \n",
      "115118  As a Python code composer, you craft elegant a...  \n",
      "278771  You are a Python code architect, reviewing and...  \n",
      "35288   Below is an instruction that describes a task....  \n",
      "267625  As a Python code composer, you craft elegant a...  \n",
      "261808  As a Python code analyst, you investigate and ...  \n",
      "231544  You are a Python code generator, capable of cr...  \n",
      "7768    As a Python code composer, you craft elegant a...  \n"
     ]
    }
   ],
   "source": [
    "data = pd.read_parquet(\"data.parquet\")\n",
    "random_data = data.sample(n=10)\n",
    "with pd.ExcelWriter(\"random_data.xlsx\", engine='xlsxwriter') as writer:\n",
    "    # Write the DataFrame to the specified Excel file\n",
    "    random_data.to_excel(writer, sheet_name='Sheet1', index=False)\n",
    "\n",
    "    # Access the XlsxWriter workbook and worksheet objects\n",
    "    workbook = writer.book\n",
    "    worksheet = writer.sheets['Sheet1']\n",
    "\n",
    "    # Define a format for text wrapping\n",
    "    wrap_format = workbook.add_format({'text_wrap': True})\n",
    "\n",
    "    # Set the column width and apply the wrap format to each column\n",
    "    worksheet.set_column('A:A', 40, wrap_format)  # Adjust width and wrap for Column1\n",
    "    worksheet.set_column('B:B', 40, wrap_format)  \n",
    "    worksheet.set_column('C:C', 40, wrap_format)\n",
    "print(random_data)"
   ]
  },
  {
   "cell_type": "markdown",
   "metadata": {},
   "source": [
    "Preprocessing:\n",
    "After an initial look through at the 10 random data points, it appears to be quite all over the place in terms of organization. Some of the data is misorganized with no system prompt, not in python, or doesn't even generate code in the first place. However, I looked at the first 1500 data points in the dataset, and they seemed to not have these problems, and follow a consistent format. As such, I will cut down the data set down to the first 1500 datapoints, and perform a data analysis on those."
   ]
  },
  {
   "cell_type": "code",
   "execution_count": 35,
   "metadata": {},
   "outputs": [
    {
     "name": "stdout",
     "output_type": "stream",
     "text": [
      "                                                 output  \\\n",
      "1013  To code a function that checks whether a given...   \n",
      "238   Here is a possible solution in Python:\\n\\n```p...   \n",
      "647   Here's the corrected and improved implementati...   \n",
      "1256  ```python\\n# Step 1: Create a 2D array\\narray ...   \n",
      "1183  1. Mutability:\\n- Lists are mutable, meaning t...   \n",
      "515   Here is a recursive solution in Python:\\n\\n```...   \n",
      "864   To compute the median of an array of n integer...   \n",
      "1497  Here's one possible implementation of the Quic...   \n",
      "772   Unfortunately, I don't have access to a databa...   \n",
      "1211  Here is an example of a Python script that mee...   \n",
      "\n",
      "                                            instruction  \\\n",
      "1013  How would you code a function that takes a str...   \n",
      "238   Write a program that takes a string as input a...   \n",
      "647   Implement a function to sort an array in desce...   \n",
      "1256  Write a Python program that prints the content...   \n",
      "1183  List five differences between a list and a tup...   \n",
      "515   Code a recursive solution for counting the num...   \n",
      "864   Design a program to compute the median of an a...   \n",
      "1497  Please implement the Quick Sort algorithm in P...   \n",
      "772   Output the 100 most populous cities along with...   \n",
      "1211  Create a Python script to scrape all links fro...   \n",
      "\n",
      "                                                 system  \n",
      "1013  You are a Python code architect, reviewing and...  \n",
      "238   You are a Python code analyst, evaluating scri...  \n",
      "647   You are a Python code generator, capable of cr...  \n",
      "1256  You are a Python code architect, reviewing and...  \n",
      "1183  As a Python code composer, you craft elegant a...  \n",
      "515   As a Python code translator, you convert algor...  \n",
      "864   You are a Python code generator, capable of cr...  \n",
      "1497  As a Python code composer, you craft elegant a...  \n",
      "772   As a Python code composer, you craft elegant a...  \n",
      "1211  As a python code expert, you are capable of cr...  \n"
     ]
    }
   ],
   "source": [
    "data_subset = data.head(1500)\n",
    "data_subset.to_excel(\"data_subset.xlsx\")\n",
    "random_preprocessed_data = data_subset.sample(n=10)\n",
    "with pd.ExcelWriter(\"random_preprocessed_data.xlsx\", engine='xlsxwriter') as writer:\n",
    "    # Write the DataFrame to the specified Excel file\n",
    "    random_preprocessed_data.to_excel(writer, sheet_name='Sheet1', index=False)\n",
    "\n",
    "    # Access the XlsxWriter workbook and worksheet objects\n",
    "    workbook = writer.book\n",
    "    worksheet = writer.sheets['Sheet1']\n",
    "\n",
    "    # Define a format for text wrapping\n",
    "    wrap_format = workbook.add_format({'text_wrap': True})\n",
    "\n",
    "    # Set the column width and apply the wrap format to each column\n",
    "    worksheet.set_column('A:A', 40, wrap_format)  # Adjust width and wrap for Column1\n",
    "    worksheet.set_column('B:B', 40, wrap_format)  \n",
    "    worksheet.set_column('C:C', 40, wrap_format)\n",
    "print(random_preprocessed_data)"
   ]
  },
  {
   "cell_type": "code",
   "execution_count": 23,
   "metadata": {},
   "outputs": [
    {
     "name": "stdout",
     "output_type": "stream",
     "text": [
      "system\n",
      "As a Python code composer, you craft elegant and concise scripts.                       230\n",
      "You are a Python code generator, capable of creating scripts from specifications.       225\n",
      "As a Python code translator, you convert algorithms and pseudocode into Python.         224\n",
      "You are a Python code analyst, evaluating scripts for potential improvements.           219\n",
      "You are a Python code architect, reviewing and designing scalable and efficient code    205\n",
      "As a Python code analyst, you investigate and solve complex coding mysteries            200\n",
      "As a python code expert, you are capable of creating scripts from specifications.       197\n",
      "Name: count, dtype: int64\n",
      "Number of unique system prompts: 7\n"
     ]
    }
   ],
   "source": [
    "value_counts_system = data_subset['system'].value_counts()\n",
    "num_unique_system = len(value_counts_system)\n",
    "\n",
    "print(value_counts_system)\n",
    "print(f'Number of unique system prompts: {num_unique_system}')"
   ]
  },
  {
   "cell_type": "code",
   "execution_count": 30,
   "metadata": {},
   "outputs": [
    {
     "data": {
      "image/png": "[encoded data removed]",
      "text/plain": [
       "<Figure size 1200x600 with 1 Axes>"
      ]
     },
     "metadata": {},
     "output_type": "display_data"
    }
   ],
   "source": [
    "import matplotlib.pyplot as plt\n",
    "\n",
    "# Sample data\n",
    "categories = ['Composer', 'Generator', 'Translator', 'Analyst: Evaluation', 'Architect', 'Analyst: Investigative', 'Expert']\n",
    "values = [230, 225, 224, 219, 205, 200, 197]\n",
    "\n",
    "plt.figure(figsize=(12, 6))\n",
    "# Create the bar graph\n",
    "plt.bar(categories, values, color='skyblue')\n",
    "\n",
    "# Add titles and labels\n",
    "plt.title('System Prompts Graph')\n",
    "plt.xlabel('System Prompts')\n",
    "plt.ylabel('Number')\n",
    "\n",
    "# Show the plot\n",
    "plt.show()"
   ]
  },
  {
   "cell_type": "markdown",
   "metadata": {},
   "source": [
    "In this data subset, there appears to be about 7 different coding roles. Composer, generator, translator, architect, expert, and two different analyst roles. One which focuses on evaluation, and the other which focuses on investigating complex problems."
   ]
  },
  {
   "cell_type": "code",
   "execution_count": 33,
   "metadata": {},
   "outputs": [
    {
     "name": "stdout",
     "output_type": "stream",
     "text": [
      "system\n",
      "You are a Python code generator, capable of creating scripts from specifications.       3\n",
      "As a Python code translator, you convert algorithms and pseudocode into Python.         3\n",
      "You are a Python code architect, reviewing and designing scalable and efficient code    1\n",
      "You are a Python code analyst, evaluating scripts for potential improvements.           1\n",
      "As a Python code composer, you craft elegant and concise scripts.                       1\n",
      "As a Python code analyst, you investigate and solve complex coding mysteries            1\n",
      "Name: count, dtype: int64\n"
     ]
    },
    {
     "data": {
      "image/png": "[encoded data removed]",
      "text/plain": [
       "<Figure size 1200x600 with 1 Axes>"
      ]
     },
     "metadata": {},
     "output_type": "display_data"
    }
   ],
   "source": [
    "counts_system = random_preprocessed_data['system'].value_counts()\n",
    "\n",
    "print(counts_system)\n",
    "\n",
    "categories = ['Composer', 'Generator', 'Translator', 'Analyst: Evaluation', 'Architect', 'Analyst: Investigative', 'Expert']\n",
    "values = [1, 3, 3, 1, 1, 1, 0]\n",
    "\n",
    "plt.figure(figsize=(12, 6))\n",
    "# Create the bar graph\n",
    "plt.bar(categories, values, color='skyblue')\n",
    "\n",
    "# Add titles and labels\n",
    "plt.title('System Prompts Graph')\n",
    "plt.xlabel('System Prompts')\n",
    "plt.ylabel('Number')\n",
    "\n",
    "# Show the plot\n",
    "plt.show()"
   ]
  },
  {
   "cell_type": "markdown",
   "metadata": {},
   "source": [
    "In our subset of data, we appear to have the above distribution of system prompt types"
   ]
  },
  {
   "cell_type": "code",
   "execution_count": 34,
   "metadata": {},
   "outputs": [
    {
     "name": "stdout",
     "output_type": "stream",
     "text": [
      "The average word length in column \"output\" is: 196.50\n",
      "The average word length in column \"instruction\" is: 148.10\n",
      "The average word length in column \"system\" is: 11.90\n"
     ]
    }
   ],
   "source": [
    "def average_word_length(series):\n",
    "    # Split each string in the series into words\n",
    "    words = series.str.split()\n",
    "    \n",
    "    # Calculate total number of words\n",
    "\n",
    "    total_words = words.apply(len)\n",
    "    \n",
    "    # Calculate average number of words\n",
    "    average_length = total_words.sum() / 10; #Ten rows of data\n",
    "    return average_length\n",
    "\n",
    "# Loop through each column and print the average word length for text columns\n",
    "for column in random_preprocessed_data.select_dtypes(include=['object']).columns:  # Select only object type columns (text)\n",
    "    avg_length = average_word_length(random_preprocessed_data[column])\n",
    "    print(f'The average word length in column \"{column}\" is: {avg_length:.2f}')"
   ]
  },
  {
   "cell_type": "markdown",
   "metadata": {},
   "source": [
    "Data Analysis: See random_preprocessed_data.xlsx\n",
    "\n",
    "Inputs: The inputs seem quite complex, often having many requirements for the code. On average, the word length of the instructions is 148.90 words long. \n",
    "\n",
    "There were 8 inputs for which the code was asked to generate code that met some specific requirements. One of these provided a \"dataset\" which was not in provided in the prompt.\n",
    "\n",
    " There were another two inputs that asked to refactor some code (one of which didn't provide said code). \n",
    "\n",
    "Output. The outputs are also quite complex. On average, the word length of the outputs all togeter is 196.50 words.\n",
    "\n",
    "The Outputs:\n",
    "Almost all outputs have code and explanations about how said code works, with the exception of one which only has code. However this outlier was asking for the algorithm to modify code (which was not provided). As such we would likely get rid of this outlier\n",
    "\n",
    "In addition \n",
    "\n",
    "-4 outputs reference run time, three even providing specific Big-Oh runtimes. However all of these inputs had mentioned runtime. \n",
    "\n",
    "-4 outputs provide example usages, even though the prompt did not ask for them.\n",
    "\n"
   ]
  },
  {
   "cell_type": "markdown",
   "metadata": {},
   "source": [
    "CONCLUSION\n",
    "\n",
    "Potential Problems:\n",
    "\n",
    "1. There are multiple data points which ask for analysis of python code or a data set which are not provided, we must make sure to look through our dataset and get rid of any such examples. We may even want to get rid of all refactoring prompts all together\n",
    "2. Inputs are quite complex. They have multiple requirements for the code. This may cause our LLM problems with simple requests as the prompts vary quite a bit, and are all complex. \n",
    "3. All of the code appears to be generated by ChatGPT, which may provide incorrect code that doesn't work or is syntactically wrong.\n",
    "\n",
    "Pros:\n",
    "\n",
    "1. Data is quite well organized\n",
    "3. Data is all ChatGPT generations of code, so our code generations may have similarly readable outputs, and improved explanations of code.\n",
    "4. Inputs are complex, which will hopefully allow the LLM to deal with complex inputs.\n",
    "\n",
    "Overall I think this dataset definitely needs extra preprocessing, even if we take only the first 1500 datapoints. In addition, given the fact the dataset uses ChatGPT code, we open ourselves up to potential errors. That being said, I still believe that since it is an organized data set that provides explanations, we should move forward with it."
   ]
  }
 ],
 "metadata": {
  "kernelspec": {
   "display_name": "Python 3",
   "language": "python",
   "name": "python3"
  },
  "language_info": {
   "codemirror_mode": {
    "name": "ipython",
    "version": 3
   },
   "file_extension": ".py",
   "mimetype": "text/x-python",
   "name": "python",
   "nbconvert_exporter": "python",
   "pygments_lexer": "ipython3",
   "version": "3.11.5"
  },
  "orig_nbformat": 4
 },
 "nbformat": 4,
 "nbformat_minor": 2
}
